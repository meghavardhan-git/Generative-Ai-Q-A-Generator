{
 "cells": [
  {
   "cell_type": "code",
   "execution_count": 4,
   "id": "a4ab7d81",
   "metadata": {},
   "outputs": [],
   "source": [
    "import os\n",
    "from dotenv import load_dotenv\n"
   ]
  },
  {
   "cell_type": "code",
   "execution_count": null,
   "id": "af0db1cb",
   "metadata": {},
   "outputs": [],
   "source": [
    "os.environ[\"GOOGLE_API_KEY\"]=\"\""
   ]
  },
  {
   "cell_type": "code",
   "execution_count": 6,
   "id": "f2fbc8e0",
   "metadata": {},
   "outputs": [],
   "source": [
    "from langchain.document_loaders import  PyPDFLoader\n"
   ]
  },
  {
   "cell_type": "code",
   "execution_count": 8,
   "id": "3f9899c1",
   "metadata": {},
   "outputs": [],
   "source": [
    "file_path=\"data/SDG.pdf\"\n",
    "loader=PyPDFLoader(file_path)\n",
    "data=loader.load()"
   ]
  },
  {
   "cell_type": "code",
   "execution_count": 10,
   "id": "e4e53bcd",
   "metadata": {},
   "outputs": [
    {
     "data": {
      "text/plain": [
       "24"
      ]
     },
     "execution_count": 10,
     "metadata": {},
     "output_type": "execute_result"
    }
   ],
   "source": [
    "len(data)"
   ]
  },
  {
   "cell_type": "code",
   "execution_count": 11,
   "id": "aac41eec",
   "metadata": {},
   "outputs": [],
   "source": [
    "question_gen=\"\"\n",
    "for page in data:\n",
    "    question_gen+=page.page_content"
   ]
  },
  {
   "cell_type": "code",
   "execution_count": 12,
   "id": "13e3e71d",
   "metadata": {},
   "outputs": [
    {
     "data": {
      "text/plain": [
       "'IN THE YEAR 2015, LEADERS FROM 193 COUNTRIES OF THE WORLD \\nCAME TOGETHER TO FACE THE FUTURE.\\nAnd what they saw was daunting. Famines. Drought. Wars. Plagues. Poverty. \\nNot just in some faraway place, but in their own cities and towns and villages.\\nThey knew things didn’t have to be this way. They knew we had enough \\nfood to feed the world, but that it wasn’t getting shared. They knew there \\nwere medicines for HIV and other diseases, but they cost a lot. They knew \\nthat earthquakes and floods were inevitable, but that the high death \\ntolls were not. \\nThey also knew that billions of people worldwide shared their hope for a \\nbetter future.\\nSo leaders from these countries created a plan called the Sustainable \\nDevelopment Goals (SDGs). This set of 17 goals imagines a future just 15 years \\noff that would be rid of poverty and hunger, and safe from the worst effects of \\nclimate change. It’s an ambitious plan. \\nBut there’s ample evidence that we can succeed. In the past 15 years, the \\ninternational community cut extreme poverty in half. \\nNow we can finish the job.\\nThe United Nations Development Programme (UNDP) is one of the leading \\norganizations working to fulfil the SDGs by the year 2030. Present in nearly \\n170 countries and territories, we help nations make the Goals a reality. \\nWe also champion the Goals so that people everywhere know how to \\ndo their part. \\nUNDP is proud to continue as a leader in this global movement.\\nLearn about the Sustainable Development Goals.  What’s your Goal?END EXTREME POVERTY IN ALL FORMS  \\nBY 2030.\\nYes, it’s an ambitious goal—but we believe it can be done. In 2000, the \\nworld committed to halving the number of people living in extreme \\npoverty by the year 2015 and we met this goal. However, more than \\n800 million people around the world still live on less than $1.25 a day—\\nthat’s about the equivalent of the entire population of Europe living in \\nextreme poverty. Now it’s time to build on what we learned and end \\npoverty altogether.END HUNGER, ACHIEVE FOOD SECURITY \\nAND IMPROVED NUTRITION AND PROMOTE \\nSUSTAINABLE AGRICUL TURE\\nIn the past 20 years, hunger has dropped by almost half. Many \\ncountries that used to suffer from famine and hunger can now \\nmeet the nutritional needs of their most vulnerable people. It’s an \\nincredible accomplishment. Now we can go further and end hunger \\nand malnutrition once and for all. That means doing things such as \\npromoting sustainable agriculture and supporting small farmers. It’s a tall \\norder. But for the sake of the nearly 1 out of every 9 people on earth who \\ngo to bed hungry every night, we’ve got to try. Imagine a world where \\neveryone has access to sufficient and nutritious food all year round. \\nTogether, we can make that a reality by 2030.ENSURE HEAL THY LIVES AND PROMOTE \\nWELL-BEING FOR ALL AT ALL AGES\\nWe all know how important it is to be in good health. Our health affects \\neverything from how much we enjoy life to what work we can perform. \\nThat’s why there’s a Goal to make sure everyone has health coverage \\nand access to safe and effective medicines and vaccines. In the 25 \\nyears before the SDGs, we made big strides—preventable child deaths \\ndropped by more than half, and maternal mortality went down by \\nalmost as much. And yet some other numbers remain tragically high, like \\nthe fact that 6 million children die every year before their fifth birthday, \\nor that AIDS is the leading cause of death for adolescents in sub-Saharan \\nAfrica. We have the means to turn that around and make good health \\nmore than just a wish.ENSURE INCLUSIVE AND EQUITABLE QUALITY \\nEDUCATION AND PROMOTE LIFELONG \\nLEARNING OPPORTUNITIES FOR ALL \\nFirst, the bad news on education. Poverty, armed conflict and other \\nemergencies keep many, many kids around the world out of school. In \\nfact, kids from the poorest households are four times more likely to be \\nout of school than those of the richest households. Now for some good \\nnews. Since 2000, there has been enormous progress on the goal to \\nprovide primary education to all children worldwide: the total enrolment \\nrate in developing regions has reached 91%. By measures in any school, \\nthat’s a good grade. Now, let’s get an even better grade for all kids, \\nand achieve the goal of universal primary and secondary education, \\naffordable vocational training, access to higher education and more.We can celebrate the great progress the world has made in becoming \\nmore prosperous and fair. But there’s a shadow to the celebration. In \\njust about every way, women and girls lag behind. There are still gross \\ninequalities in work and wages, lots of unpaid “women’s work” such as \\nchild care and domestic work, and discrimination in public decision-\\nmaking. But there are grounds for hope. More girls are in school now \\ncompared to in 2000. Most regions have reached gender parity in \\nprimary education. The percentage of women getting paid for their work \\nis on the rise. The Sustainable Development Goals aim to build on these \\nachievements to ensure that there is an end to discrimination against \\nwomen and girls everywhere.\\nACHIEVE GENDER EQUALITY AND \\nEMPOWER ALL WOMEN AND GIRLSEveryone on earth should have access to safe and affordable drinking \\nwater. That’s the goal for 2030. While many people take clean drinking \\nwater and sanitation for granted, many others don’t. Water scarcity \\naffects more than 40 percent of people around the world, and that \\nnumber is projected to go even higher as a result of climate change. \\nIf we continue the path we’re on, by 2050 at least one in four people \\nare likely to be affected by recurring water shortages. But we can take \\na new path—more international cooperation, protecting wetlands \\nand rivers, sharing water-treatment technologies—that leads to \\naccomplishing this Goal. \\nENSURE AVAILABILITY AND SUSTAINABLE \\nMANAGEMENT OF WATER AND SANITATION \\nFOR ALLENSURE ACCESS TO AFFORDABLE, RELIABLE, \\nSUSTAINABLE AND MODERN ENERGY FOR \\nALL \\nBetween 1990 and 2010, the number of people with access to electricity \\nincreased by 1.7 billion. That’s progress to be proud of. And yet as the \\nworld’s population continues to rise, still more people will need cheap \\nenergy to light their homes and streets, use phones and computers, \\nand do their everyday business. How we get that energy is at issue; fossil \\nfuels and greenhouse gas emissions are making drastic changes in the \\nclimate, leading to big problems on every continent. Instead, we can \\nbecome more energy-efficient and invest in clean energy sources such \\nas solar and wind. That way we’ll meet electricity needs and protect the \\nenvironment. How’s that for a balancing act?PROMOTE SUSTAINED, INCLUSIVE AND \\nSUSTAINABLE ECONOMIC GROWTH, FULL \\nAND PRODUCTIVE EMPLOYMENT AND \\nDECENT WORK FOR ALL \\nAn important part of economic growth is that people have jobs that \\npay enough to support themselves and their families. The good news \\nis that the middle class is growing worldwide—almost tripling in size \\nin developing countries in the last 25 years, to more than a third of the \\npopulation. But today, job growth is not keeping pace with the growing \\nlabour force. Things don’t have to be that way. We can promote policies \\nthat encourage entrepreneurship and job creation. We can eradicate \\nforced labour, slavery and human trafficking. And in the end we can \\nachieve the goal of decent work for all women and men by 2030.BUILD RESILIENT INFRASTRUCTURE, \\nPROMOTE INCLUSIVE AND SUSTAINABLE \\nINDUSTRIALIZATION AND FOSTER \\nINNOVATION \\nTechnological progress helps us address big global challenges such as \\ncreating jobs and becoming more energy efficient. For example, the \\nworld is becoming ever more interconnected and prosperous thanks to \\nthe internet. The more connected we are, the more we can all benefit \\nfrom the wisdom and contributions of people everywhere on earth.  And \\nyet four billion people have no way of getting online, the vast majority \\nof them in developing countries. The more we invest in innovation \\nand infrastructure, the better off we’ll all be. Bridging the digital divide, \\npromoting sustainable industries, and investing in scientific research and \\ninnovation are all important ways to facilitate sustainable development.REDUCE INEQUALITY WITHIN AND AMONG \\nCOUNTRIES \\nIt’s an old story: the rich get richer, and the poor get poorer. The divide \\nhas never been starker. We can and must adopt policies that create \\nopportunity for everyone, regardless of who they are or where they \\ncome from. Income inequality is a global problem that requires global \\nsolutions. That means improving the regulation of financial markets \\nand institutions, sending development aid where it is most needed \\nand helping people migrate safely so they can pursue opportunities. \\nTogether, we can now change the direction of the old story of inequality.MAKE CITIES AND HUMAN SETTLEMENTS \\nINCLUSIVE, SAFE, RESILIENT AND \\nSUSTAINABLE \\nIf you’re like most people, you live in a city. More than half the world’s \\npopulation now lives in cities, and that figure will go to about two-thirds \\nof humanity by the year 2050. Cities are getting bigger. In 1990 there \\nwere ten “mega-cities” with 10 million inhabitants or more. In 2014, there \\nwere 28 mega-cities, home to 453 million people. Incredible, huh? A lot \\nof people love cities; they’re centers of culture and business and life. The \\nthing is, they’re also often centers of extreme poverty. To make cities \\nsustainable for all, we can create good, affordable public housing. We \\ncan upgrade slum settlements. We can invest in public transport, create \\ngreen spaces, and get a broader range of people involved in urban \\nplanning decisions. That way, we can keep the things we love about \\ncities, and change the things we don’t.ENSURE SUSTAINABLE CONSUMPTION AND \\nPRODUCTION PATTERNS\\nSome people use a lot of stuff, and some people use very little—in fact, \\na big share of the world population is consuming too little to meet even \\ntheir basic needs. Instead, we can have a world where everybody gets \\nwhat they need to survive and thrive. And we can consume in a way \\nthat preserves our natural resources so that our children can enjoy them, \\nand their children and their children after that. The hard part is how to \\nachieve that goal. We can manage our natural resources more efficiently \\nand dispose of toxic waste better. Cut per capita food waste in half \\nglobally. Get businesses and consumers to reduce and recycle waste. \\nAnd help countries that have typically not consumed a lot to move \\ntowards more responsible consumption patterns.TAKE URGENT ACTION TO COMBAT CLIMATE \\nCHANGE AND ITS IMPACTS\\nEvery country in the world is seeing the drastic effects of climate \\nchange, some more than others. On average, the annual losses just \\nfrom earthquakes, tsunamis, tropical cyclones and flooding count in the \\nhundreds of billions of dollars. We can reduce the loss of life and property \\nby helping more vulnerable regions—such as land-locked countries \\nand island states—become more resilient. It is still possible, with the \\npolitical will and technological measures, to limit the increase in global \\nmean temperature to two degrees Celsius above pre-industrial levels—\\nand thus avoid the worst effects of climate change. The Sustainable \\nDevelopment Goals lay out a way for countries to work together to meet \\nthis urgent challenge.CONSERVE AND SUSTAINABLY USE THE \\nOCEANS, SEAS AND MARINE RESOURCES \\nFOR SUSTAINABLE DEVELOPMENT\\nThe oceans make human life possible. Their temperature, their chemistry, \\ntheir currents, their life forms. For one thing, more than 3 billion people \\ndepend on marine and coastal diversity for their livelihoods. But today \\nwe are seeing nearly a third of the world’s fish stocks overexploited. \\nThat’s not a sustainable way of life. Even people who live nowhere near \\nthe ocean can’t live without it. Oceans absorb about 30 percent of the \\ncarbon dioxide that humans produce; but we’re producing more carbon \\ndioxide than ever before and that makes the oceans more acidic—26% \\nmore, since the start of the industrial revolution. Our trash doesn’t help \\neither—13,000 pieces of plastic litter on every square kilometer of ocean. \\nSounds bad, right? Don’t despair! The Sustainable Development Goals \\nindicate targets for managing and protecting life below water.PROTECT, RESTORE AND PROMOTE \\nSUSTAINABLE USE OF TERRESTRIAL \\nECOSYSTEMS, SUSTAINABLY MANAGE \\nFORESTS, COMBAT DESERTIFICATION, AND \\nHAL T AND REVERSE LAND DEGRADATION \\nAND HAL T BIODIVERSITY LOSS \\nHumans and other animals rely on other forms of life on land for food, \\nclean air, clean water, and as a means of combatting climate change. \\nPlant life makes up 80% of the human diet. Forests, which cover 30% \\nof the Earth’s surface, help keep the air and water clean and the Earth’s \\nclimate in balance. That’s not to mention they’re home to millions of \\nanimal species. But the land and life on it are in trouble. Arable land \\nis disappearing 30 to 35 times faster than it has historically. Deserts \\nare spreading. Animal breeds are going extinct. We can turn these \\ntrends around. Fortunately, the Sustainable Development Goals aim to \\nconserve and restore the use of terrestrial ecosystems such as forests, \\nwetlands, drylands and mountains by 2030.PROMOTE PEACEFUL AND INCLUSIVE \\nSOCIETIES FOR SUSTAINABLE \\nDEVELOPMENT, PROVIDE ACCESS TO \\nJUSTICE FOR ALL AND BUILD EFFECTIVE, \\nACCOUNTABLE AND INCLUSIVE \\nINSTITUTIONS AT ALL LEVELS \\nHow can a country develop—how can people eat and teach and learn \\nand work and raise families—without peace? And how can a country \\nhave peace without justice, without human rights, without government \\nbased on the rule of law? Some parts of the world enjoy relative peace \\nand justice, and may come to take it for granted. Other parts seem to \\nbe plagued by armed conflict, crime, torture and exploitation, all of \\nwhich hinders their development. The goal of peace and justice is one \\nfor all countries to strive towards. The Sustainable Development Goals \\naim to reduce all forms of violence and propose that governments \\nand communities find lasting solutions to conflict and insecurity. That \\nmeans strengthening the rule of law, reducing the flow of illicit arms, \\nand bringing developing countries more into the center of institutions \\nof global governance.STRENGTHEN THE MEANS OF \\nIMPLEMENTATION AND REVITALIZE THE \\nGLOBAL PARTNERSHIP FOR SUSTAINABLE \\nDEVELOPMENT \\nThe Sustainable Development Goals are pretty big to-do list, don’t you \\nthink? In fact, it’s so big, you may just want to throw your hands up in the \\nair. “Forget it! Can’t be done! Why even try!” But we’ve got a lot going for \\nus. The world is more interconnected today than ever before, thanks to \\nthe internet, travel and global institutions. There’s a growing consensus \\nabout the need to work together to stop climate change. And the \\nSustainable Development Goals are no small matter either. 193 countries \\nagreed on these goals. Pretty incredible, isn’t it? 193 countries agreeing \\non anything? The final goal lays out a way for nations to work together to \\nachieve all the other Goals.Go shopping \\nMake a donation \\nStart a fundraiser \\nSpread the word \\nVisit shop.undp.org for SDG merchandise, and show off the goals you’re \\nmost passionate about. \\nMoney doesn’t just make the world go around; it’s also the most direct \\nway to reduce and eradicate all forms of poverty.\\nFundraising is a great way to raise money, create awareness, and inspire \\nothers. Plus, it’s fun!\\nSearch for @UNDP on Twitter, Facebook and Instagram, and share the \\ncontent you love.\\nTo donate or learn more about fundraising, visit undp.org/takeaction\\nThere are many ways to show your support and help us reach \\nthe Sustainable Development Goals by 2030. Here are a few :\\nWHA T CAN  \\nI DO TO HELP?NOTESNOTES'"
      ]
     },
     "execution_count": 12,
     "metadata": {},
     "output_type": "execute_result"
    }
   ],
   "source": [
    "question_gen"
   ]
  },
  {
   "cell_type": "code",
   "execution_count": null,
   "id": "932c587a",
   "metadata": {},
   "outputs": [],
   "source": [
    "pip install tiktoken"
   ]
  },
  {
   "cell_type": "code",
   "execution_count": 21,
   "id": "79b76296",
   "metadata": {},
   "outputs": [],
   "source": [
    "from langchain.text_splitter import TokenTextSplitter\n",
    "splitter_ques_gen=TokenTextSplitter(\n",
    "    encoding_name=\"cl100k_base\",\n",
    "    chunk_size=10000,\n",
    "    chunk_overlap=200\n",
    ")"
   ]
  },
  {
   "cell_type": "code",
   "execution_count": 22,
   "id": "2bd99202",
   "metadata": {},
   "outputs": [],
   "source": [
    "chunk_ques_gen=splitter_ques_gen.split_text(question_gen)"
   ]
  },
  {
   "cell_type": "code",
   "execution_count": 23,
   "id": "c4106ca6",
   "metadata": {},
   "outputs": [
    {
     "data": {
      "text/plain": [
       "1"
      ]
     },
     "execution_count": 23,
     "metadata": {},
     "output_type": "execute_result"
    }
   ],
   "source": [
    "len(chunk_ques_gen)"
   ]
  },
  {
   "cell_type": "code",
   "execution_count": 24,
   "id": "7e59a7f2",
   "metadata": {},
   "outputs": [],
   "source": [
    "#convert list to document \n",
    "from langchain.docstore.document import Document\n",
    "docs_ques_gen=[Document(page_content=chunk) for chunk in chunk_ques_gen]"
   ]
  },
  {
   "cell_type": "code",
   "execution_count": 26,
   "id": "99b0105c",
   "metadata": {},
   "outputs": [
    {
     "data": {
      "text/plain": [
       "langchain_core.documents.base.Document"
      ]
     },
     "execution_count": 26,
     "metadata": {},
     "output_type": "execute_result"
    }
   ],
   "source": [
    "type(docs_ques_gen[0])"
   ]
  },
  {
   "cell_type": "code",
   "execution_count": 28,
   "id": "86ab7151",
   "metadata": {},
   "outputs": [],
   "source": [
    "from langchain.text_splitter import TokenTextSplitter\n",
    "splitter_ans_gen=TokenTextSplitter(\n",
    "    encoding_name=\"cl100k_base\",\n",
    "    chunk_size=1000,\n",
    "    chunk_overlap=100\n",
    ")"
   ]
  },
  {
   "cell_type": "code",
   "execution_count": 30,
   "id": "4de04307",
   "metadata": {},
   "outputs": [],
   "source": [
    "docs_ans_gen=splitter_ans_gen.split_documents(docs_ques_gen)"
   ]
  },
  {
   "cell_type": "code",
   "execution_count": 31,
   "id": "916774cb",
   "metadata": {},
   "outputs": [
    {
     "data": {
      "text/plain": [
       "[Document(metadata={}, page_content='IN THE YEAR 2015, LEADERS FROM 193 COUNTRIES OF THE WORLD \\nCAME TOGETHER TO FACE THE FUTURE.\\nAnd what they saw was daunting. Famines. Drought. Wars. Plagues. Poverty. \\nNot just in some faraway place, but in their own cities and towns and villages.\\nThey knew things didn’t have to be this way. They knew we had enough \\nfood to feed the world, but that it wasn’t getting shared. They knew there \\nwere medicines for HIV and other diseases, but they cost a lot. They knew \\nthat earthquakes and floods were inevitable, but that the high death \\ntolls were not. \\nThey also knew that billions of people worldwide shared their hope for a \\nbetter future.\\nSo leaders from these countries created a plan called the Sustainable \\nDevelopment Goals (SDGs). This set of 17 goals imagines a future just 15 years \\noff that would be rid of poverty and hunger, and safe from the worst effects of \\nclimate change. It’s an ambitious plan. \\nBut there’s ample evidence that we can succeed. In the past 15 years, the \\ninternational community cut extreme poverty in half. \\nNow we can finish the job.\\nThe United Nations Development Programme (UNDP) is one of the leading \\norganizations working to fulfil the SDGs by the year 2030. Present in nearly \\n170 countries and territories, we help nations make the Goals a reality. \\nWe also champion the Goals so that people everywhere know how to \\ndo their part. \\nUNDP is proud to continue as a leader in this global movement.\\nLearn about the Sustainable Development Goals.  What’s your Goal?END EXTREME POVERTY IN ALL FORMS  \\nBY 2030.\\nYes, it’s an ambitious goal—but we believe it can be done. In 2000, the \\nworld committed to halving the number of people living in extreme \\npoverty by the year 2015 and we met this goal. However, more than \\n800 million people around the world still live on less than $1.25 a day—\\nthat’s about the equivalent of the entire population of Europe living in \\nextreme poverty. Now it’s time to build on what we learned and end \\npoverty altogether.END HUNGER, ACHIEVE FOOD SECURITY \\nAND IMPROVED NUTRITION AND PROMOTE \\nSUSTAINABLE AGRICUL TURE\\nIn the past 20 years, hunger has dropped by almost half. Many \\ncountries that used to suffer from famine and hunger can now \\nmeet the nutritional needs of their most vulnerable people. It’s an \\nincredible accomplishment. Now we can go further and end hunger \\nand malnutrition once and for all. That means doing things such as \\npromoting sustainable agriculture and supporting small farmers. It’s a tall \\norder. But for the sake of the nearly 1 out of every 9 people on earth who \\ngo to bed hungry every night, we’ve got to try. Imagine a world where \\neveryone has access to sufficient and nutritious food all year round. \\nTogether, we can make that a reality by 2030.ENSURE HEAL THY LIVES AND PROMOTE \\nWELL-BEING FOR ALL AT ALL AGES\\nWe all know how important it is to be in good health. Our health affects \\neverything from how much we enjoy life to what work we can perform. \\nThat’s why there’s a Goal to make sure everyone has health coverage \\nand access to safe and effective medicines and vaccines. In the 25 \\nyears before the SDGs, we made big strides—preventable child deaths \\ndropped by more than half, and maternal mortality went down by \\nalmost as much. And yet some other numbers remain tragically high, like \\nthe fact that 6 million children die every year before their fifth birthday, \\nor that AIDS is the leading cause of death for adolescents in sub-Saharan \\nAfrica. We have the means to turn that around and make good health \\nmore than just a wish.ENSURE INCLUSIVE AND EQUITABLE QUALITY \\nEDUCATION AND PROMOTE LIFELONG \\nLEARNING OPPORTUNITIES FOR ALL \\nFirst, the bad news on education. Poverty, armed conflict and other \\nemergencies keep many, many kids around the world out of school. In \\nfact, kids from the poorest households are four times more likely to be \\nout of school than those of the richest households. Now for some good \\nnews. Since 2000, there has been enormous progress on the goal to \\nprovide primary education to all children worldwide: the total enrolment \\nrate in developing regions has reached 91%. By measures in any school, \\nthat’s a good grade. Now, let’s get an even better grade for all kids, \\nand achieve'),\n",
       " Document(metadata={}, page_content=' In \\nfact, kids from the poorest households are four times more likely to be \\nout of school than those of the richest households. Now for some good \\nnews. Since 2000, there has been enormous progress on the goal to \\nprovide primary education to all children worldwide: the total enrolment \\nrate in developing regions has reached 91%. By measures in any school, \\nthat’s a good grade. Now, let’s get an even better grade for all kids, \\nand achieve the goal of universal primary and secondary education, \\naffordable vocational training, access to higher education and more.We can celebrate the great progress the world has made in becoming \\nmore prosperous and fair. But there’s a shadow to the celebration. In \\njust about every way, women and girls lag behind. There are still gross \\ninequalities in work and wages, lots of unpaid “women’s work” such as \\nchild care and domestic work, and discrimination in public decision-\\nmaking. But there are grounds for hope. More girls are in school now \\ncompared to in 2000. Most regions have reached gender parity in \\nprimary education. The percentage of women getting paid for their work \\nis on the rise. The Sustainable Development Goals aim to build on these \\nachievements to ensure that there is an end to discrimination against \\nwomen and girls everywhere.\\nACHIEVE GENDER EQUALITY AND \\nEMPOWER ALL WOMEN AND GIRLSEveryone on earth should have access to safe and affordable drinking \\nwater. That’s the goal for 2030. While many people take clean drinking \\nwater and sanitation for granted, many others don’t. Water scarcity \\naffects more than 40 percent of people around the world, and that \\nnumber is projected to go even higher as a result of climate change. \\nIf we continue the path we’re on, by 2050 at least one in four people \\nare likely to be affected by recurring water shortages. But we can take \\na new path—more international cooperation, protecting wetlands \\nand rivers, sharing water-treatment technologies—that leads to \\naccomplishing this Goal. \\nENSURE AVAILABILITY AND SUSTAINABLE \\nMANAGEMENT OF WATER AND SANITATION \\nFOR ALLENSURE ACCESS TO AFFORDABLE, RELIABLE, \\nSUSTAINABLE AND MODERN ENERGY FOR \\nALL \\nBetween 1990 and 2010, the number of people with access to electricity \\nincreased by 1.7 billion. That’s progress to be proud of. And yet as the \\nworld’s population continues to rise, still more people will need cheap \\nenergy to light their homes and streets, use phones and computers, \\nand do their everyday business. How we get that energy is at issue; fossil \\nfuels and greenhouse gas emissions are making drastic changes in the \\nclimate, leading to big problems on every continent. Instead, we can \\nbecome more energy-efficient and invest in clean energy sources such \\nas solar and wind. That way we’ll meet electricity needs and protect the \\nenvironment. How’s that for a balancing act?PROMOTE SUSTAINED, INCLUSIVE AND \\nSUSTAINABLE ECONOMIC GROWTH, FULL \\nAND PRODUCTIVE EMPLOYMENT AND \\nDECENT WORK FOR ALL \\nAn important part of economic growth is that people have jobs that \\npay enough to support themselves and their families. The good news \\nis that the middle class is growing worldwide—almost tripling in size \\nin developing countries in the last 25 years, to more than a third of the \\npopulation. But today, job growth is not keeping pace with the growing \\nlabour force. Things don’t have to be that way. We can promote policies \\nthat encourage entrepreneurship and job creation. We can eradicate \\nforced labour, slavery and human trafficking. And in the end we can \\nachieve the goal of decent work for all women and men by 2030.BUILD RESILIENT INFRASTRUCTURE, \\nPROMOTE INCLUSIVE AND SUSTAINABLE \\nINDUSTRIALIZATION AND FOSTER \\nINNOVATION \\nTechnological progress helps us address big global challenges such as \\ncreating jobs and becoming more energy efficient. For example, the \\nworld is becoming ever more interconnected and prosperous thanks to \\nthe internet. The more connected we are, the more we can all benefit \\nfrom the wisdom and contributions of people everywhere on earth.  And \\nyet four billion people have no way of getting online, the vast majority \\nof them in developing countries. The more we invest in innovation \\nand infrastructure, the better off we’ll all be. Bridging the digital divide, \\npromoting sustainable industries, and investing in scientific research and \\ninnovation are all important ways to facilitate sustainable development.REDUCE INEQUALITY WITHIN AND AMONG \\nCOUNTRIES \\nIt’s an old story: the rich'),\n",
       " Document(metadata={}, page_content=' of people everywhere on earth.  And \\nyet four billion people have no way of getting online, the vast majority \\nof them in developing countries. The more we invest in innovation \\nand infrastructure, the better off we’ll all be. Bridging the digital divide, \\npromoting sustainable industries, and investing in scientific research and \\ninnovation are all important ways to facilitate sustainable development.REDUCE INEQUALITY WITHIN AND AMONG \\nCOUNTRIES \\nIt’s an old story: the rich get richer, and the poor get poorer. The divide \\nhas never been starker. We can and must adopt policies that create \\nopportunity for everyone, regardless of who they are or where they \\ncome from. Income inequality is a global problem that requires global \\nsolutions. That means improving the regulation of financial markets \\nand institutions, sending development aid where it is most needed \\nand helping people migrate safely so they can pursue opportunities. \\nTogether, we can now change the direction of the old story of inequality.MAKE CITIES AND HUMAN SETTLEMENTS \\nINCLUSIVE, SAFE, RESILIENT AND \\nSUSTAINABLE \\nIf you’re like most people, you live in a city. More than half the world’s \\npopulation now lives in cities, and that figure will go to about two-thirds \\nof humanity by the year 2050. Cities are getting bigger. In 1990 there \\nwere ten “mega-cities” with 10 million inhabitants or more. In 2014, there \\nwere 28 mega-cities, home to 453 million people. Incredible, huh? A lot \\nof people love cities; they’re centers of culture and business and life. The \\nthing is, they’re also often centers of extreme poverty. To make cities \\nsustainable for all, we can create good, affordable public housing. We \\ncan upgrade slum settlements. We can invest in public transport, create \\ngreen spaces, and get a broader range of people involved in urban \\nplanning decisions. That way, we can keep the things we love about \\ncities, and change the things we don’t.ENSURE SUSTAINABLE CONSUMPTION AND \\nPRODUCTION PATTERNS\\nSome people use a lot of stuff, and some people use very little—in fact, \\na big share of the world population is consuming too little to meet even \\ntheir basic needs. Instead, we can have a world where everybody gets \\nwhat they need to survive and thrive. And we can consume in a way \\nthat preserves our natural resources so that our children can enjoy them, \\nand their children and their children after that. The hard part is how to \\nachieve that goal. We can manage our natural resources more efficiently \\nand dispose of toxic waste better. Cut per capita food waste in half \\nglobally. Get businesses and consumers to reduce and recycle waste. \\nAnd help countries that have typically not consumed a lot to move \\ntowards more responsible consumption patterns.TAKE URGENT ACTION TO COMBAT CLIMATE \\nCHANGE AND ITS IMPACTS\\nEvery country in the world is seeing the drastic effects of climate \\nchange, some more than others. On average, the annual losses just \\nfrom earthquakes, tsunamis, tropical cyclones and flooding count in the \\nhundreds of billions of dollars. We can reduce the loss of life and property \\nby helping more vulnerable regions—such as land-locked countries \\nand island states—become more resilient. It is still possible, with the \\npolitical will and technological measures, to limit the increase in global \\nmean temperature to two degrees Celsius above pre-industrial levels—\\nand thus avoid the worst effects of climate change. The Sustainable \\nDevelopment Goals lay out a way for countries to work together to meet \\nthis urgent challenge.CONSERVE AND SUSTAINABLY USE THE \\nOCEANS, SEAS AND MARINE RESOURCES \\nFOR SUSTAINABLE DEVELOPMENT\\nThe oceans make human life possible. Their temperature, their chemistry, \\ntheir currents, their life forms. For one thing, more than 3 billion people \\ndepend on marine and coastal diversity for their livelihoods. But today \\nwe are seeing nearly a third of the world’s fish stocks overexploited. \\nThat’s not a sustainable way of life. Even people who live nowhere near \\nthe ocean can’t live without it. Oceans absorb about 30 percent of the \\ncarbon dioxide that humans produce; but we’re producing more carbon \\ndioxide than ever before and that makes the oceans more acidic—26% \\nmore, since the start of the industrial revolution. Our trash doesn’t help \\neither—13,000 pieces of plastic litter on every square kilometer of ocean. \\nSounds bad, right? Don’t despair! The Sustainable Development Goals \\nindicate targets for managing and protecting life below water.PROTECT, RESTORE AND PROMOTE \\nS'),\n",
       " Document(metadata={}, page_content=' of the \\ncarbon dioxide that humans produce; but we’re producing more carbon \\ndioxide than ever before and that makes the oceans more acidic—26% \\nmore, since the start of the industrial revolution. Our trash doesn’t help \\neither—13,000 pieces of plastic litter on every square kilometer of ocean. \\nSounds bad, right? Don’t despair! The Sustainable Development Goals \\nindicate targets for managing and protecting life below water.PROTECT, RESTORE AND PROMOTE \\nSUSTAINABLE USE OF TERRESTRIAL \\nECOSYSTEMS, SUSTAINABLY MANAGE \\nFORESTS, COMBAT DESERTIFICATION, AND \\nHAL T AND REVERSE LAND DEGRADATION \\nAND HAL T BIODIVERSITY LOSS \\nHumans and other animals rely on other forms of life on land for food, \\nclean air, clean water, and as a means of combatting climate change. \\nPlant life makes up 80% of the human diet. Forests, which cover 30% \\nof the Earth’s surface, help keep the air and water clean and the Earth’s \\nclimate in balance. That’s not to mention they’re home to millions of \\nanimal species. But the land and life on it are in trouble. Arable land \\nis disappearing 30 to 35 times faster than it has historically. Deserts \\nare spreading. Animal breeds are going extinct. We can turn these \\ntrends around. Fortunately, the Sustainable Development Goals aim to \\nconserve and restore the use of terrestrial ecosystems such as forests, \\nwetlands, drylands and mountains by 2030.PROMOTE PEACEFUL AND INCLUSIVE \\nSOCIETIES FOR SUSTAINABLE \\nDEVELOPMENT, PROVIDE ACCESS TO \\nJUSTICE FOR ALL AND BUILD EFFECTIVE, \\nACCOUNTABLE AND INCLUSIVE \\nINSTITUTIONS AT ALL LEVELS \\nHow can a country develop—how can people eat and teach and learn \\nand work and raise families—without peace? And how can a country \\nhave peace without justice, without human rights, without government \\nbased on the rule of law? Some parts of the world enjoy relative peace \\nand justice, and may come to take it for granted. Other parts seem to \\nbe plagued by armed conflict, crime, torture and exploitation, all of \\nwhich hinders their development. The goal of peace and justice is one \\nfor all countries to strive towards. The Sustainable Development Goals \\naim to reduce all forms of violence and propose that governments \\nand communities find lasting solutions to conflict and insecurity. That \\nmeans strengthening the rule of law, reducing the flow of illicit arms, \\nand bringing developing countries more into the center of institutions \\nof global governance.STRENGTHEN THE MEANS OF \\nIMPLEMENTATION AND REVITALIZE THE \\nGLOBAL PARTNERSHIP FOR SUSTAINABLE \\nDEVELOPMENT \\nThe Sustainable Development Goals are pretty big to-do list, don’t you \\nthink? In fact, it’s so big, you may just want to throw your hands up in the \\nair. “Forget it! Can’t be done! Why even try!” But we’ve got a lot going for \\nus. The world is more interconnected today than ever before, thanks to \\nthe internet, travel and global institutions. There’s a growing consensus \\nabout the need to work together to stop climate change. And the \\nSustainable Development Goals are no small matter either. 193 countries \\nagreed on these goals. Pretty incredible, isn’t it? 193 countries agreeing \\non anything? The final goal lays out a way for nations to work together to \\nachieve all the other Goals.Go shopping \\nMake a donation \\nStart a fundraiser \\nSpread the word \\nVisit shop.undp.org for SDG merchandise, and show off the goals you’re \\nmost passionate about. \\nMoney doesn’t just make the world go around; it’s also the most direct \\nway to reduce and eradicate all forms of poverty.\\nFundraising is a great way to raise money, create awareness, and inspire \\nothers. Plus, it’s fun!\\nSearch for @UNDP on Twitter, Facebook and Instagram, and share the \\ncontent you love.\\nTo donate or learn more about fundraising, visit undp.org/takeaction\\nThere are many ways to show your support and help us reach \\nthe Sustainable Development Goals by 2030. Here are a few :\\nWHA T CAN  \\nI DO TO HELP?NOTESNOTES')]"
      ]
     },
     "execution_count": 31,
     "metadata": {},
     "output_type": "execute_result"
    }
   ],
   "source": [
    "docs_ans_gen"
   ]
  },
  {
   "cell_type": "code",
   "execution_count": 32,
   "id": "aa34313c",
   "metadata": {},
   "outputs": [],
   "source": [
    "from langchain_google_genai import ChatGoogleGenerativeAI"
   ]
  },
  {
   "cell_type": "code",
   "execution_count": 33,
   "id": "c2a0a462",
   "metadata": {},
   "outputs": [],
   "source": [
    "llm_ques_gen_pipelinr=ChatGoogleGenerativeAI(\n",
    "    model=\"gemini-2.5-flash-lite\",\n",
    "    temperature=0.5,\n",
    ")"
   ]
  },
  {
   "cell_type": "code",
   "execution_count": 34,
   "id": "10df0751",
   "metadata": {},
   "outputs": [],
   "source": [
    "prompt_template = \"\"\"\n",
    "You are an expert at creating questions based on coding materials and documentation.\n",
    "Your goal is to prepare a coder or programmer for their exam and coding tests.\n",
    "You do this by asking questions about the text below:\n",
    "\n",
    "------------\n",
    "{text}\n",
    "------------\n",
    "\n",
    "Create questions that will prepare the coders or programmers for their tests.\n",
    "Make sure not to lose any important information.\n",
    "\n",
    "QUESTIONS:\n",
    "\"\"\""
   ]
  },
  {
   "cell_type": "code",
   "execution_count": 37,
   "id": "d5c682b7",
   "metadata": {},
   "outputs": [],
   "source": [
    "from langchain.prompts import PromptTemplate\n",
    "prompt_ques=PromptTemplate.from_template(prompt_template)"
   ]
  },
  {
   "cell_type": "code",
   "execution_count": 38,
   "id": "621db5ca",
   "metadata": {},
   "outputs": [],
   "source": [
    "#refining prompt so when model generates irrelevent questions it can be fixed via refined prompt\n",
    "refine_template = (\"\"\"\n",
    "You are an expert at creating practice questions based on coding material and documentation.\n",
    "Your goal is to help a coder or programmer prepare for a coding test.\n",
    "We have received some practice questions to a certain extent: {existing_answer}.\n",
    "We have the option to refine the existing questions or add new ones.\n",
    "(only if necessary) with some more context below.\n",
    "------------\n",
    "{text}\n",
    "------------\n",
    "\n",
    "Given the new context, refine the original questions in English.\n",
    "If the context is not helpful, please provide the original questions.\n",
    "QUESTIONS:\n",
    "\"\"\"\n",
    ")\n"
   ]
  },
  {
   "cell_type": "code",
   "execution_count": 39,
   "id": "dcb2c02b",
   "metadata": {},
   "outputs": [],
   "source": [
    "refine_prompt_ques = PromptTemplate(\n",
    "    input_variables=[\"existing_answer\", \"text\"],\n",
    "    template=refine_template,\n",
    ")"
   ]
  },
  {
   "cell_type": "code",
   "execution_count": 44,
   "id": "9ecf0297",
   "metadata": {},
   "outputs": [],
   "source": [
    "from langchain.chains.summarize import load_summarize_chain\n",
    "chain_ques_gen = load_summarize_chain(\n",
    "    llm_ques_gen_pipelinr,\n",
    "    chain_type=\"refine\",\n",
    "    question_prompt=prompt_ques,\n",
    "    refine_prompt=refine_prompt_ques,\n",
    "    verbose=True,\n",
    ")"
   ]
  },
  {
   "cell_type": "code",
   "execution_count": 45,
   "id": "507d251f",
   "metadata": {},
   "outputs": [
    {
     "name": "stdout",
     "output_type": "stream",
     "text": [
      "\n",
      "\n",
      "\u001b[1m> Entering new RefineDocumentsChain chain...\u001b[0m\n",
      "\n",
      "\n",
      "\u001b[1m> Entering new LLMChain chain...\u001b[0m\n",
      "Prompt after formatting:\n",
      "\u001b[32;1m\u001b[1;3m\n",
      "You are an expert at creating questions based on coding materials and documentation.\n",
      "Your goal is to prepare a coder or programmer for their exam and coding tests.\n",
      "You do this by asking questions about the text below:\n",
      "\n",
      "------------\n",
      "IN THE YEAR 2015, LEADERS FROM 193 COUNTRIES OF THE WORLD \n",
      "CAME TOGETHER TO FACE THE FUTURE.\n",
      "And what they saw was daunting. Famines. Drought. Wars. Plagues. Poverty. \n",
      "Not just in some faraway place, but in their own cities and towns and villages.\n",
      "They knew things didn’t have to be this way. They knew we had enough \n",
      "food to feed the world, but that it wasn’t getting shared. They knew there \n",
      "were medicines for HIV and other diseases, but they cost a lot. They knew \n",
      "that earthquakes and floods were inevitable, but that the high death \n",
      "tolls were not. \n",
      "They also knew that billions of people worldwide shared their hope for a \n",
      "better future.\n",
      "So leaders from these countries created a plan called the Sustainable \n",
      "Development Goals (SDGs). This set of 17 goals imagines a future just 15 years \n",
      "off that would be rid of poverty and hunger, and safe from the worst effects of \n",
      "climate change. It’s an ambitious plan. \n",
      "But there’s ample evidence that we can succeed. In the past 15 years, the \n",
      "international community cut extreme poverty in half. \n",
      "Now we can finish the job.\n",
      "The United Nations Development Programme (UNDP) is one of the leading \n",
      "organizations working to fulfil the SDGs by the year 2030. Present in nearly \n",
      "170 countries and territories, we help nations make the Goals a reality. \n",
      "We also champion the Goals so that people everywhere know how to \n",
      "do their part. \n",
      "UNDP is proud to continue as a leader in this global movement.\n",
      "Learn about the Sustainable Development Goals.  What’s your Goal?END EXTREME POVERTY IN ALL FORMS  \n",
      "BY 2030.\n",
      "Yes, it’s an ambitious goal—but we believe it can be done. In 2000, the \n",
      "world committed to halving the number of people living in extreme \n",
      "poverty by the year 2015 and we met this goal. However, more than \n",
      "800 million people around the world still live on less than $1.25 a day—\n",
      "that’s about the equivalent of the entire population of Europe living in \n",
      "extreme poverty. Now it’s time to build on what we learned and end \n",
      "poverty altogether.END HUNGER, ACHIEVE FOOD SECURITY \n",
      "AND IMPROVED NUTRITION AND PROMOTE \n",
      "SUSTAINABLE AGRICUL TURE\n",
      "In the past 20 years, hunger has dropped by almost half. Many \n",
      "countries that used to suffer from famine and hunger can now \n",
      "meet the nutritional needs of their most vulnerable people. It’s an \n",
      "incredible accomplishment. Now we can go further and end hunger \n",
      "and malnutrition once and for all. That means doing things such as \n",
      "promoting sustainable agriculture and supporting small farmers. It’s a tall \n",
      "order. But for the sake of the nearly 1 out of every 9 people on earth who \n",
      "go to bed hungry every night, we’ve got to try. Imagine a world where \n",
      "everyone has access to sufficient and nutritious food all year round. \n",
      "Together, we can make that a reality by 2030.ENSURE HEAL THY LIVES AND PROMOTE \n",
      "WELL-BEING FOR ALL AT ALL AGES\n",
      "We all know how important it is to be in good health. Our health affects \n",
      "everything from how much we enjoy life to what work we can perform. \n",
      "That’s why there’s a Goal to make sure everyone has health coverage \n",
      "and access to safe and effective medicines and vaccines. In the 25 \n",
      "years before the SDGs, we made big strides—preventable child deaths \n",
      "dropped by more than half, and maternal mortality went down by \n",
      "almost as much. And yet some other numbers remain tragically high, like \n",
      "the fact that 6 million children die every year before their fifth birthday, \n",
      "or that AIDS is the leading cause of death for adolescents in sub-Saharan \n",
      "Africa. We have the means to turn that around and make good health \n",
      "more than just a wish.ENSURE INCLUSIVE AND EQUITABLE QUALITY \n",
      "EDUCATION AND PROMOTE LIFELONG \n",
      "LEARNING OPPORTUNITIES FOR ALL \n",
      "First, the bad news on education. Poverty, armed conflict and other \n",
      "emergencies keep many, many kids around the world out of school. In \n",
      "fact, kids from the poorest households are four times more likely to be \n",
      "out of school than those of the richest households. Now for some good \n",
      "news. Since 2000, there has been enormous progress on the goal to \n",
      "provide primary education to all children worldwide: the total enrolment \n",
      "rate in developing regions has reached 91%. By measures in any school, \n",
      "that’s a good grade. Now, let’s get an even better grade for all kids, \n",
      "and achieve the goal of universal primary and secondary education, \n",
      "affordable vocational training, access to higher education and more.We can celebrate the great progress the world has made in becoming \n",
      "more prosperous and fair. But there’s a shadow to the celebration. In \n",
      "just about every way, women and girls lag behind. There are still gross \n",
      "inequalities in work and wages, lots of unpaid “women’s work” such as \n",
      "child care and domestic work, and discrimination in public decision-\n",
      "making. But there are grounds for hope. More girls are in school now \n",
      "compared to in 2000. Most regions have reached gender parity in \n",
      "primary education. The percentage of women getting paid for their work \n",
      "is on the rise. The Sustainable Development Goals aim to build on these \n",
      "achievements to ensure that there is an end to discrimination against \n",
      "women and girls everywhere.\n",
      "ACHIEVE GENDER EQUALITY AND \n",
      "EMPOWER ALL WOMEN AND GIRLSEveryone on earth should have access to safe and affordable drinking \n",
      "water. That’s the goal for 2030. While many people take clean drinking \n",
      "water and sanitation for granted, many others don’t. Water scarcity \n",
      "affects more than 40 percent of people around the world, and that \n",
      "number is projected to go even higher as a result of climate change. \n",
      "If we continue the path we’re on, by 2050 at least one in four people \n",
      "are likely to be affected by recurring water shortages. But we can take \n",
      "a new path—more international cooperation, protecting wetlands \n",
      "and rivers, sharing water-treatment technologies—that leads to \n",
      "accomplishing this Goal. \n",
      "ENSURE AVAILABILITY AND SUSTAINABLE \n",
      "MANAGEMENT OF WATER AND SANITATION \n",
      "FOR ALLENSURE ACCESS TO AFFORDABLE, RELIABLE, \n",
      "SUSTAINABLE AND MODERN ENERGY FOR \n",
      "ALL \n",
      "Between 1990 and 2010, the number of people with access to electricity \n",
      "increased by 1.7 billion. That’s progress to be proud of. And yet as the \n",
      "world’s population continues to rise, still more people will need cheap \n",
      "energy to light their homes and streets, use phones and computers, \n",
      "and do their everyday business. How we get that energy is at issue; fossil \n",
      "fuels and greenhouse gas emissions are making drastic changes in the \n",
      "climate, leading to big problems on every continent. Instead, we can \n",
      "become more energy-efficient and invest in clean energy sources such \n",
      "as solar and wind. That way we’ll meet electricity needs and protect the \n",
      "environment. How’s that for a balancing act?PROMOTE SUSTAINED, INCLUSIVE AND \n",
      "SUSTAINABLE ECONOMIC GROWTH, FULL \n",
      "AND PRODUCTIVE EMPLOYMENT AND \n",
      "DECENT WORK FOR ALL \n",
      "An important part of economic growth is that people have jobs that \n",
      "pay enough to support themselves and their families. The good news \n",
      "is that the middle class is growing worldwide—almost tripling in size \n",
      "in developing countries in the last 25 years, to more than a third of the \n",
      "population. But today, job growth is not keeping pace with the growing \n",
      "labour force. Things don’t have to be that way. We can promote policies \n",
      "that encourage entrepreneurship and job creation. We can eradicate \n",
      "forced labour, slavery and human trafficking. And in the end we can \n",
      "achieve the goal of decent work for all women and men by 2030.BUILD RESILIENT INFRASTRUCTURE, \n",
      "PROMOTE INCLUSIVE AND SUSTAINABLE \n",
      "INDUSTRIALIZATION AND FOSTER \n",
      "INNOVATION \n",
      "Technological progress helps us address big global challenges such as \n",
      "creating jobs and becoming more energy efficient. For example, the \n",
      "world is becoming ever more interconnected and prosperous thanks to \n",
      "the internet. The more connected we are, the more we can all benefit \n",
      "from the wisdom and contributions of people everywhere on earth.  And \n",
      "yet four billion people have no way of getting online, the vast majority \n",
      "of them in developing countries. The more we invest in innovation \n",
      "and infrastructure, the better off we’ll all be. Bridging the digital divide, \n",
      "promoting sustainable industries, and investing in scientific research and \n",
      "innovation are all important ways to facilitate sustainable development.REDUCE INEQUALITY WITHIN AND AMONG \n",
      "COUNTRIES \n",
      "It’s an old story: the rich get richer, and the poor get poorer. The divide \n",
      "has never been starker. We can and must adopt policies that create \n",
      "opportunity for everyone, regardless of who they are or where they \n",
      "come from. Income inequality is a global problem that requires global \n",
      "solutions. That means improving the regulation of financial markets \n",
      "and institutions, sending development aid where it is most needed \n",
      "and helping people migrate safely so they can pursue opportunities. \n",
      "Together, we can now change the direction of the old story of inequality.MAKE CITIES AND HUMAN SETTLEMENTS \n",
      "INCLUSIVE, SAFE, RESILIENT AND \n",
      "SUSTAINABLE \n",
      "If you’re like most people, you live in a city. More than half the world’s \n",
      "population now lives in cities, and that figure will go to about two-thirds \n",
      "of humanity by the year 2050. Cities are getting bigger. In 1990 there \n",
      "were ten “mega-cities” with 10 million inhabitants or more. In 2014, there \n",
      "were 28 mega-cities, home to 453 million people. Incredible, huh? A lot \n",
      "of people love cities; they’re centers of culture and business and life. The \n",
      "thing is, they’re also often centers of extreme poverty. To make cities \n",
      "sustainable for all, we can create good, affordable public housing. We \n",
      "can upgrade slum settlements. We can invest in public transport, create \n",
      "green spaces, and get a broader range of people involved in urban \n",
      "planning decisions. That way, we can keep the things we love about \n",
      "cities, and change the things we don’t.ENSURE SUSTAINABLE CONSUMPTION AND \n",
      "PRODUCTION PATTERNS\n",
      "Some people use a lot of stuff, and some people use very little—in fact, \n",
      "a big share of the world population is consuming too little to meet even \n",
      "their basic needs. Instead, we can have a world where everybody gets \n",
      "what they need to survive and thrive. And we can consume in a way \n",
      "that preserves our natural resources so that our children can enjoy them, \n",
      "and their children and their children after that. The hard part is how to \n",
      "achieve that goal. We can manage our natural resources more efficiently \n",
      "and dispose of toxic waste better. Cut per capita food waste in half \n",
      "globally. Get businesses and consumers to reduce and recycle waste. \n",
      "And help countries that have typically not consumed a lot to move \n",
      "towards more responsible consumption patterns.TAKE URGENT ACTION TO COMBAT CLIMATE \n",
      "CHANGE AND ITS IMPACTS\n",
      "Every country in the world is seeing the drastic effects of climate \n",
      "change, some more than others. On average, the annual losses just \n",
      "from earthquakes, tsunamis, tropical cyclones and flooding count in the \n",
      "hundreds of billions of dollars. We can reduce the loss of life and property \n",
      "by helping more vulnerable regions—such as land-locked countries \n",
      "and island states—become more resilient. It is still possible, with the \n",
      "political will and technological measures, to limit the increase in global \n",
      "mean temperature to two degrees Celsius above pre-industrial levels—\n",
      "and thus avoid the worst effects of climate change. The Sustainable \n",
      "Development Goals lay out a way for countries to work together to meet \n",
      "this urgent challenge.CONSERVE AND SUSTAINABLY USE THE \n",
      "OCEANS, SEAS AND MARINE RESOURCES \n",
      "FOR SUSTAINABLE DEVELOPMENT\n",
      "The oceans make human life possible. Their temperature, their chemistry, \n",
      "their currents, their life forms. For one thing, more than 3 billion people \n",
      "depend on marine and coastal diversity for their livelihoods. But today \n",
      "we are seeing nearly a third of the world’s fish stocks overexploited. \n",
      "That’s not a sustainable way of life. Even people who live nowhere near \n",
      "the ocean can’t live without it. Oceans absorb about 30 percent of the \n",
      "carbon dioxide that humans produce; but we’re producing more carbon \n",
      "dioxide than ever before and that makes the oceans more acidic—26% \n",
      "more, since the start of the industrial revolution. Our trash doesn’t help \n",
      "either—13,000 pieces of plastic litter on every square kilometer of ocean. \n",
      "Sounds bad, right? Don’t despair! The Sustainable Development Goals \n",
      "indicate targets for managing and protecting life below water.PROTECT, RESTORE AND PROMOTE \n",
      "SUSTAINABLE USE OF TERRESTRIAL \n",
      "ECOSYSTEMS, SUSTAINABLY MANAGE \n",
      "FORESTS, COMBAT DESERTIFICATION, AND \n",
      "HAL T AND REVERSE LAND DEGRADATION \n",
      "AND HAL T BIODIVERSITY LOSS \n",
      "Humans and other animals rely on other forms of life on land for food, \n",
      "clean air, clean water, and as a means of combatting climate change. \n",
      "Plant life makes up 80% of the human diet. Forests, which cover 30% \n",
      "of the Earth’s surface, help keep the air and water clean and the Earth’s \n",
      "climate in balance. That’s not to mention they’re home to millions of \n",
      "animal species. But the land and life on it are in trouble. Arable land \n",
      "is disappearing 30 to 35 times faster than it has historically. Deserts \n",
      "are spreading. Animal breeds are going extinct. We can turn these \n",
      "trends around. Fortunately, the Sustainable Development Goals aim to \n",
      "conserve and restore the use of terrestrial ecosystems such as forests, \n",
      "wetlands, drylands and mountains by 2030.PROMOTE PEACEFUL AND INCLUSIVE \n",
      "SOCIETIES FOR SUSTAINABLE \n",
      "DEVELOPMENT, PROVIDE ACCESS TO \n",
      "JUSTICE FOR ALL AND BUILD EFFECTIVE, \n",
      "ACCOUNTABLE AND INCLUSIVE \n",
      "INSTITUTIONS AT ALL LEVELS \n",
      "How can a country develop—how can people eat and teach and learn \n",
      "and work and raise families—without peace? And how can a country \n",
      "have peace without justice, without human rights, without government \n",
      "based on the rule of law? Some parts of the world enjoy relative peace \n",
      "and justice, and may come to take it for granted. Other parts seem to \n",
      "be plagued by armed conflict, crime, torture and exploitation, all of \n",
      "which hinders their development. The goal of peace and justice is one \n",
      "for all countries to strive towards. The Sustainable Development Goals \n",
      "aim to reduce all forms of violence and propose that governments \n",
      "and communities find lasting solutions to conflict and insecurity. That \n",
      "means strengthening the rule of law, reducing the flow of illicit arms, \n",
      "and bringing developing countries more into the center of institutions \n",
      "of global governance.STRENGTHEN THE MEANS OF \n",
      "IMPLEMENTATION AND REVITALIZE THE \n",
      "GLOBAL PARTNERSHIP FOR SUSTAINABLE \n",
      "DEVELOPMENT \n",
      "The Sustainable Development Goals are pretty big to-do list, don’t you \n",
      "think? In fact, it’s so big, you may just want to throw your hands up in the \n",
      "air. “Forget it! Can’t be done! Why even try!” But we’ve got a lot going for \n",
      "us. The world is more interconnected today than ever before, thanks to \n",
      "the internet, travel and global institutions. There’s a growing consensus \n",
      "about the need to work together to stop climate change. And the \n",
      "Sustainable Development Goals are no small matter either. 193 countries \n",
      "agreed on these goals. Pretty incredible, isn’t it? 193 countries agreeing \n",
      "on anything? The final goal lays out a way for nations to work together to \n",
      "achieve all the other Goals.Go shopping \n",
      "Make a donation \n",
      "Start a fundraiser \n",
      "Spread the word \n",
      "Visit shop.undp.org for SDG merchandise, and show off the goals you’re \n",
      "most passionate about. \n",
      "Money doesn’t just make the world go around; it’s also the most direct \n",
      "way to reduce and eradicate all forms of poverty.\n",
      "Fundraising is a great way to raise money, create awareness, and inspire \n",
      "others. Plus, it’s fun!\n",
      "Search for @UNDP on Twitter, Facebook and Instagram, and share the \n",
      "content you love.\n",
      "To donate or learn more about fundraising, visit undp.org/takeaction\n",
      "There are many ways to show your support and help us reach \n",
      "the Sustainable Development Goals by 2030. Here are a few :\n",
      "WHA T CAN  \n",
      "I DO TO HELP?NOTESNOTES\n",
      "------------\n",
      "\n",
      "Create questions that will prepare the coders or programmers for their tests.\n",
      "Make sure not to lose any important information.\n",
      "\n",
      "QUESTIONS:\n",
      "\u001b[0m\n",
      "\n",
      "\u001b[1m> Finished chain.\u001b[0m\n",
      "\n",
      "\u001b[1m> Finished chain.\u001b[0m\n",
      "Here are some questions designed to prepare coders and programmers for exams and coding tests, based on the provided text:\n",
      "\n",
      "**General Understanding & Goal Identification:**\n",
      "\n",
      "1.  What year did leaders from 193 countries come together to create the Sustainable Development Goals (SDGs)?\n",
      "2.  What is the primary overarching aim of the Sustainable Development Goals (SDGs) as stated in the text?\n",
      "3.  What is the target year for achieving the Sustainable Development Goals?\n",
      "4.  Which organization is highlighted as a leading entity working to fulfill the SDGs, and in how many countries is it present?\n",
      "5.  The text mentions several global challenges that leaders faced. List at least five of these challenges.\n",
      "\n",
      "**Specific Goal-Oriented Questions:**\n",
      "\n",
      "6.  **Goal: End Extreme Poverty:**\n",
      "    *   What was the previous target for reducing extreme poverty, and by what year was it set to be achieved?\n",
      "    *   What percentage of the world's population is still living in extreme poverty, and what is the daily income threshold for this classification?\n",
      "    *   What is the target year to end extreme poverty in all its forms?\n",
      "\n",
      "7.  **Goal: End Hunger, Achieve Food Security and Improved Nutrition and Promote Sustainable Agriculture:**\n",
      "    *   What has been the trend in hunger reduction over the past 20 years?\n",
      "    *   What are some of the key actions mentioned to end hunger and malnutrition?\n",
      "    *   What proportion of people on Earth go to bed hungry each night?\n",
      "\n",
      "8.  **Goal: Ensure Healthy Lives and Promote Well-being for All at All Ages:**\n",
      "    *   What significant improvements have been made in child and maternal mortality in the 25 years before the SDGs?\n",
      "    *   What are two tragic statistics that highlight the ongoing challenges in global health?\n",
      "    *   What are the stated aims of this goal regarding health coverage and access to medicines?\n",
      "\n",
      "9.  **Goal: Ensure Inclusive and Equitable Quality Education and Promote Lifelong Learning Opportunities for All:**\n",
      "    *   What are the primary reasons cited for children being out of school globally?\n",
      "    *   What progress has been made in primary education enrollment rates in developing regions since 2000?\n",
      "    *   Beyond primary education, what other educational opportunities does this goal aim to promote?\n",
      "\n",
      "10. **Goal: Achieve Gender Equality and Empower All Women and Girls:**\n",
      "    *   What are some of the key areas where women and girls still lag behind globally?\n",
      "    *   What positive trends are mentioned regarding girls' education and women's participation in the workforce?\n",
      "    *   What is the overarching aim of this goal concerning discrimination?\n",
      "\n",
      "11. **Goal: Ensure Availability and Sustainable Management of Water and Sanitation for All:**\n",
      "    *   What percentage of people are currently affected by water scarcity, and what is projected to happen by 2050?\n",
      "    *   What are some of the proposed solutions to achieve this goal?\n",
      "\n",
      "12. **Goal: Ensure Access to Affordable, Reliable, Sustainable and Modern Energy for All:**\n",
      "    *   How many people gained access to electricity between 1990 and 2010?\n",
      "    *   What are the negative environmental consequences of current energy production methods?\n",
      "    *   What alternative energy sources are suggested for a more sustainable future?\n",
      "\n",
      "13. **Goal: Promote Sustained, Inclusive and Sustainable Economic Growth, Full and Productive Employment and Decent Work for All:**\n",
      "    *   What has been the trend in the growth of the middle class in developing countries over the last 25 years?\n",
      "    *   What is the current challenge regarding job growth in relation to the labor force?\n",
      "    *   What are some of the key actions to achieve decent work for all?\n",
      "\n",
      "14. **Goal: Build Resilient Infrastructure, Promote Inclusive and Sustainable Industrialization and Foster Innovation:**\n",
      "    *   How has technological progress, such as the internet, benefited the world?\n",
      "    *   What is the current digital divide, and where is it most prevalent?\n",
      "    *   What are three important ways to facilitate sustainable development according to this goal?\n",
      "\n",
      "15. **Goal: Reduce Inequality Within and Among Countries:**\n",
      "    *   What is the current state of income inequality described in the text?\n",
      "    *   What are three policy areas mentioned that can help reduce inequality?\n",
      "\n",
      "16. **Goal: Make Cities and Human Settlements Inclusive, Safe, Resilient and Sustainable:**\n",
      "    *   What is the projected percentage of the world's population living in cities by 2050?\n",
      "    *   What are some of the challenges associated with large urban centers?\n",
      "    *   List at least three strategies for making cities more sustainable.\n",
      "\n",
      "17. **Goal: Ensure Sustainable Consumption and Production Patterns:**\n",
      "    *   What is the contrast presented regarding consumption levels globally?\n",
      "    *   What are some specific actions mentioned to achieve sustainable consumption and production?\n",
      "    *   What is the target for reducing per capita food waste globally?\n",
      "\n",
      "18. **Goal: Take Urgent Action to Combat Climate Change and Its Impacts:**\n",
      "    *   What is the estimated annual loss from natural disasters like earthquakes and floods?\n",
      "    *   What is the target for limiting the increase in global mean temperature to avoid the worst effects of climate change?\n",
      "\n",
      "19. **Goal: Conserve and Sustainably Use the Oceans, Seas and Marine Resources for Sustainable Development:**\n",
      "    *   What percentage of the world's fish stocks are currently overexploited?\n",
      "    *   How much carbon dioxide do oceans absorb, and what is the consequence of increased production?\n",
      "    *   What is the amount of plastic litter per square kilometer of ocean mentioned?\n",
      "\n",
      "20. **Goal: Protect, Restore and Promote Sustainable Use of Terrestrial Ecosystems, Sustainably Manage Forests, Combat Desertification, and Halt and Reverse Land Degradation and Halt Biodiversity Loss:**\n",
      "    *   What percentage of the human diet is made up of plant life?\n",
      "    *   What percentage of the Earth's surface is covered by forests, and what are their benefits?\n",
      "    *   What are the alarming rates of arable land disappearance and desertification mentioned?\n",
      "\n",
      "21. **Goal: Promote Peaceful and Inclusive Societies for Sustainable Development, Provide Access to Justice for All and Build Effective, Accountable and Inclusive Institutions at All Levels:**\n",
      "    *   What are the essential components for a country's development and peace, according to the text?\n",
      "    *   What are some of the negative factors hindering development in certain parts of the world?\n",
      "    *   What are three ways the SDGs aim to promote peace and justice?\n",
      "\n",
      "22. **Goal: Strengthen the Means of Implementation and Revitalize the Global Partnership for Sustainable Development:**\n",
      "    *   What makes the SDGs a \"big to-do list\"?\n",
      "    *   What factors are highlighted as advantages for achieving the SDGs?\n",
      "    *   How many countries agreed on the SDGs, and why is this significant?\n",
      "\n",
      "**Action-Oriented & Practical Application Questions:**\n",
      "\n",
      "23. The text suggests several ways individuals can contribute to the SDGs. List at least three of these actions.\n",
      "24. Where can one go to shop for SDG merchandise and show support for specific goals?\n",
      "25. What is the stated importance of money in relation to reducing and eradicating poverty?\n",
      "26. How can fundraising be beneficial in supporting the SDGs?\n",
      "27. What social media platforms are mentioned for finding and sharing UNDP content?\n",
      "28. What is the website provided for taking action or learning more about fundraising?\n",
      "\n",
      "**Coding/Problem-Solving Scenario Questions (Implied):**\n",
      "\n",
      "29. Imagine you are tasked with building a data visualization dashboard to track progress on the SDGs. What are some key data points you would need to collect for \"Goal 1: End Extreme Poverty\"?\n",
      "30. If you were developing an application to help farmers in developing countries improve their yields (related to \"Goal 2: End Hunger\"), what types of data and functionalities would be crucial?\n",
      "31. Consider a scenario where you need to build a system to monitor and report on water quality and availability for \"Goal 6: Ensure Availability and Sustainable Management of Water and Sanitation for All.\" What are some technical challenges you might encounter?\n",
      "32. How could a programmer contribute to \"Goal 9: Build Resilient Infrastructure, Promote Inclusive and Sustainable Industrialization and Foster Innovation\" by developing tools to bridge the digital divide?\n",
      "33. If you were to create a platform to facilitate global partnerships for sustainable development (\"Goal 17\"), what features would be essential for effective collaboration and resource sharing?\n"
     ]
    }
   ],
   "source": [
    "ques=chain_ques_gen.run(docs_ques_gen)\n",
    "print(ques)"
   ]
  },
  {
   "cell_type": "code",
   "execution_count": 60,
   "id": "7d14ec6a",
   "metadata": {},
   "outputs": [
    {
     "name": "stderr",
     "output_type": "stream",
     "text": [
      "c:\\Users\\megha\\anaconda3\\envs\\openaidambo\\lib\\site-packages\\tqdm\\auto.py:21: TqdmWarning: IProgress not found. Please update jupyter and ipywidgets. See https://ipywidgets.readthedocs.io/en/stable/user_install.html\n",
      "  from .autonotebook import tqdm as notebook_tqdm\n",
      "c:\\Users\\megha\\anaconda3\\envs\\openaidambo\\lib\\site-packages\\huggingface_hub\\file_download.py:143: UserWarning: `huggingface_hub` cache-system uses symlinks by default to efficiently store duplicated files but your machine does not support them in C:\\Users\\megha\\.cache\\huggingface\\hub\\models--BAAI--bge-small-en-v1.5. Caching files will still work but in a degraded version that might require more space on your disk. This warning can be disabled by setting the `HF_HUB_DISABLE_SYMLINKS_WARNING` environment variable. For more details, see https://huggingface.co/docs/huggingface_hub/how-to-cache#limitations.\n",
      "To support symlinks on Windows, you either need to activate Developer Mode or to run Python as an administrator. In order to activate developer mode, see this article: https://docs.microsoft.com/en-us/windows/apps/get-started/enable-your-device-for-development\n",
      "  warnings.warn(message)\n",
      "Xet Storage is enabled for this repo, but the 'hf_xet' package is not installed. Falling back to regular HTTP download. For better performance, install the package with: `pip install huggingface_hub[hf_xet]` or `pip install hf_xet`\n"
     ]
    }
   ],
   "source": [
    "from langchain_community.embeddings import HuggingFaceEmbeddings\n",
    "\n",
    "embeddings = HuggingFaceEmbeddings(model_name=\"BAAI/bge-small-en-v1.5\")"
   ]
  },
  {
   "cell_type": "code",
   "execution_count": 49,
   "id": "daff573b",
   "metadata": {},
   "outputs": [],
   "source": [
    "from langchain.vectorstores import FAISS\n"
   ]
  },
  {
   "cell_type": "code",
   "execution_count": 61,
   "id": "4481e272",
   "metadata": {},
   "outputs": [],
   "source": [
    "#intilazing faiss,faiss is faster than chroma\n",
    "vectorstore = FAISS.from_documents(docs_ans_gen, embeddings)"
   ]
  },
  {
   "cell_type": "code",
   "execution_count": 57,
   "id": "8b9bef17",
   "metadata": {},
   "outputs": [
    {
     "data": {
      "text/plain": [
       "'Here are some questions designed to prepare coders and programmers for exams and coding tests, based on the provided text:\\n\\n**General Understanding & Goal Identification:**\\n\\n1.  What year did leaders from 193 countries come together to create the Sustainable Development Goals (SDGs)?\\n2.  What is the primary overarching aim of the Sustainable Development Goals (SDGs) as stated in the text?\\n3.  What is the target year for achieving the Sustainable Development Goals?\\n4.  Which organization is highlighted as a leading entity working to fulfill the SDGs, and in how many countries is it present?\\n5.  The text mentions several global challenges that leaders faced. List at least five of these challenges.\\n\\n**Specific Goal-Oriented Questions:**\\n\\n6.  **Goal: End Extreme Poverty:**\\n    *   What was the previous target for reducing extreme poverty, and by what year was it set to be achieved?\\n    *   What percentage of the world\\'s population is still living in extreme poverty, and what is the daily income threshold for this classification?\\n    *   What is the target year to end extreme poverty in all its forms?\\n\\n7.  **Goal: End Hunger, Achieve Food Security and Improved Nutrition and Promote Sustainable Agriculture:**\\n    *   What has been the trend in hunger reduction over the past 20 years?\\n    *   What are some of the key actions mentioned to end hunger and malnutrition?\\n    *   What proportion of people on Earth go to bed hungry each night?\\n\\n8.  **Goal: Ensure Healthy Lives and Promote Well-being for All at All Ages:**\\n    *   What significant improvements have been made in child and maternal mortality in the 25 years before the SDGs?\\n    *   What are two tragic statistics that highlight the ongoing challenges in global health?\\n    *   What are the stated aims of this goal regarding health coverage and access to medicines?\\n\\n9.  **Goal: Ensure Inclusive and Equitable Quality Education and Promote Lifelong Learning Opportunities for All:**\\n    *   What are the primary reasons cited for children being out of school globally?\\n    *   What progress has been made in primary education enrollment rates in developing regions since 2000?\\n    *   Beyond primary education, what other educational opportunities does this goal aim to promote?\\n\\n10. **Goal: Achieve Gender Equality and Empower All Women and Girls:**\\n    *   What are some of the key areas where women and girls still lag behind globally?\\n    *   What positive trends are mentioned regarding girls\\' education and women\\'s participation in the workforce?\\n    *   What is the overarching aim of this goal concerning discrimination?\\n\\n11. **Goal: Ensure Availability and Sustainable Management of Water and Sanitation for All:**\\n    *   What percentage of people are currently affected by water scarcity, and what is projected to happen by 2050?\\n    *   What are some of the proposed solutions to achieve this goal?\\n\\n12. **Goal: Ensure Access to Affordable, Reliable, Sustainable and Modern Energy for All:**\\n    *   How many people gained access to electricity between 1990 and 2010?\\n    *   What are the negative environmental consequences of current energy production methods?\\n    *   What alternative energy sources are suggested for a more sustainable future?\\n\\n13. **Goal: Promote Sustained, Inclusive and Sustainable Economic Growth, Full and Productive Employment and Decent Work for All:**\\n    *   What has been the trend in the growth of the middle class in developing countries over the last 25 years?\\n    *   What is the current challenge regarding job growth in relation to the labor force?\\n    *   What are some of the key actions to achieve decent work for all?\\n\\n14. **Goal: Build Resilient Infrastructure, Promote Inclusive and Sustainable Industrialization and Foster Innovation:**\\n    *   How has technological progress, such as the internet, benefited the world?\\n    *   What is the current digital divide, and where is it most prevalent?\\n    *   What are three important ways to facilitate sustainable development according to this goal?\\n\\n15. **Goal: Reduce Inequality Within and Among Countries:**\\n    *   What is the current state of income inequality described in the text?\\n    *   What are three policy areas mentioned that can help reduce inequality?\\n\\n16. **Goal: Make Cities and Human Settlements Inclusive, Safe, Resilient and Sustainable:**\\n    *   What is the projected percentage of the world\\'s population living in cities by 2050?\\n    *   What are some of the challenges associated with large urban centers?\\n    *   List at least three strategies for making cities more sustainable.\\n\\n17. **Goal: Ensure Sustainable Consumption and Production Patterns:**\\n    *   What is the contrast presented regarding consumption levels globally?\\n    *   What are some specific actions mentioned to achieve sustainable consumption and production?\\n    *   What is the target for reducing per capita food waste globally?\\n\\n18. **Goal: Take Urgent Action to Combat Climate Change and Its Impacts:**\\n    *   What is the estimated annual loss from natural disasters like earthquakes and floods?\\n    *   What is the target for limiting the increase in global mean temperature to avoid the worst effects of climate change?\\n\\n19. **Goal: Conserve and Sustainably Use the Oceans, Seas and Marine Resources for Sustainable Development:**\\n    *   What percentage of the world\\'s fish stocks are currently overexploited?\\n    *   How much carbon dioxide do oceans absorb, and what is the consequence of increased production?\\n    *   What is the amount of plastic litter per square kilometer of ocean mentioned?\\n\\n20. **Goal: Protect, Restore and Promote Sustainable Use of Terrestrial Ecosystems, Sustainably Manage Forests, Combat Desertification, and Halt and Reverse Land Degradation and Halt Biodiversity Loss:**\\n    *   What percentage of the human diet is made up of plant life?\\n    *   What percentage of the Earth\\'s surface is covered by forests, and what are their benefits?\\n    *   What are the alarming rates of arable land disappearance and desertification mentioned?\\n\\n21. **Goal: Promote Peaceful and Inclusive Societies for Sustainable Development, Provide Access to Justice for All and Build Effective, Accountable and Inclusive Institutions at All Levels:**\\n    *   What are the essential components for a country\\'s development and peace, according to the text?\\n    *   What are some of the negative factors hindering development in certain parts of the world?\\n    *   What are three ways the SDGs aim to promote peace and justice?\\n\\n22. **Goal: Strengthen the Means of Implementation and Revitalize the Global Partnership for Sustainable Development:**\\n    *   What makes the SDGs a \"big to-do list\"?\\n    *   What factors are highlighted as advantages for achieving the SDGs?\\n    *   How many countries agreed on the SDGs, and why is this significant?\\n\\n**Action-Oriented & Practical Application Questions:**\\n\\n23. The text suggests several ways individuals can contribute to the SDGs. List at least three of these actions.\\n24. Where can one go to shop for SDG merchandise and show support for specific goals?\\n25. What is the stated importance of money in relation to reducing and eradicating poverty?\\n26. How can fundraising be beneficial in supporting the SDGs?\\n27. What social media platforms are mentioned for finding and sharing UNDP content?\\n28. What is the website provided for taking action or learning more about fundraising?\\n\\n**Coding/Problem-Solving Scenario Questions (Implied):**\\n\\n29. Imagine you are tasked with building a data visualization dashboard to track progress on the SDGs. What are some key data points you would need to collect for \"Goal 1: End Extreme Poverty\"?\\n30. If you were developing an application to help farmers in developing countries improve their yields (related to \"Goal 2: End Hunger\"), what types of data and functionalities would be crucial?\\n31. Consider a scenario where you need to build a system to monitor and report on water quality and availability for \"Goal 6: Ensure Availability and Sustainable Management of Water and Sanitation for All.\" What are some technical challenges you might encounter?\\n32. How could a programmer contribute to \"Goal 9: Build Resilient Infrastructure, Promote Inclusive and Sustainable Industrialization and Foster Innovation\" by developing tools to bridge the digital divide?\\n33. If you were to create a platform to facilitate global partnerships for sustainable development (\"Goal 17\"), what features would be essential for effective collaboration and resource sharing?'"
      ]
     },
     "execution_count": 57,
     "metadata": {},
     "output_type": "execute_result"
    }
   ],
   "source": [
    "ques"
   ]
  },
  {
   "cell_type": "code",
   "execution_count": 59,
   "id": "dea44491",
   "metadata": {},
   "outputs": [],
   "source": [
    "llm_ans_gen=ChatGoogleGenerativeAI(\n",
    "    model=\"gemini-2.5-flash-lite\",\n",
    "    temperature=0.5,\n",
    ")"
   ]
  },
  {
   "cell_type": "code",
   "execution_count": 58,
   "id": "6ffec6da",
   "metadata": {},
   "outputs": [
    {
     "data": {
      "text/plain": [
       "['Here are some questions designed to prepare coders and programmers for exams and coding tests, based on the provided text:',\n",
       " '',\n",
       " '**General Understanding & Goal Identification:**',\n",
       " '',\n",
       " '1.  What year did leaders from 193 countries come together to create the Sustainable Development Goals (SDGs)?',\n",
       " '2.  What is the primary overarching aim of the Sustainable Development Goals (SDGs) as stated in the text?',\n",
       " '3.  What is the target year for achieving the Sustainable Development Goals?',\n",
       " '4.  Which organization is highlighted as a leading entity working to fulfill the SDGs, and in how many countries is it present?',\n",
       " '5.  The text mentions several global challenges that leaders faced. List at least five of these challenges.',\n",
       " '',\n",
       " '**Specific Goal-Oriented Questions:**',\n",
       " '',\n",
       " '6.  **Goal: End Extreme Poverty:**',\n",
       " '    *   What was the previous target for reducing extreme poverty, and by what year was it set to be achieved?',\n",
       " \"    *   What percentage of the world's population is still living in extreme poverty, and what is the daily income threshold for this classification?\",\n",
       " '    *   What is the target year to end extreme poverty in all its forms?',\n",
       " '',\n",
       " '7.  **Goal: End Hunger, Achieve Food Security and Improved Nutrition and Promote Sustainable Agriculture:**',\n",
       " '    *   What has been the trend in hunger reduction over the past 20 years?',\n",
       " '    *   What are some of the key actions mentioned to end hunger and malnutrition?',\n",
       " '    *   What proportion of people on Earth go to bed hungry each night?',\n",
       " '',\n",
       " '8.  **Goal: Ensure Healthy Lives and Promote Well-being for All at All Ages:**',\n",
       " '    *   What significant improvements have been made in child and maternal mortality in the 25 years before the SDGs?',\n",
       " '    *   What are two tragic statistics that highlight the ongoing challenges in global health?',\n",
       " '    *   What are the stated aims of this goal regarding health coverage and access to medicines?',\n",
       " '',\n",
       " '9.  **Goal: Ensure Inclusive and Equitable Quality Education and Promote Lifelong Learning Opportunities for All:**',\n",
       " '    *   What are the primary reasons cited for children being out of school globally?',\n",
       " '    *   What progress has been made in primary education enrollment rates in developing regions since 2000?',\n",
       " '    *   Beyond primary education, what other educational opportunities does this goal aim to promote?',\n",
       " '',\n",
       " '10. **Goal: Achieve Gender Equality and Empower All Women and Girls:**',\n",
       " '    *   What are some of the key areas where women and girls still lag behind globally?',\n",
       " \"    *   What positive trends are mentioned regarding girls' education and women's participation in the workforce?\",\n",
       " '    *   What is the overarching aim of this goal concerning discrimination?',\n",
       " '',\n",
       " '11. **Goal: Ensure Availability and Sustainable Management of Water and Sanitation for All:**',\n",
       " '    *   What percentage of people are currently affected by water scarcity, and what is projected to happen by 2050?',\n",
       " '    *   What are some of the proposed solutions to achieve this goal?',\n",
       " '',\n",
       " '12. **Goal: Ensure Access to Affordable, Reliable, Sustainable and Modern Energy for All:**',\n",
       " '    *   How many people gained access to electricity between 1990 and 2010?',\n",
       " '    *   What are the negative environmental consequences of current energy production methods?',\n",
       " '    *   What alternative energy sources are suggested for a more sustainable future?',\n",
       " '',\n",
       " '13. **Goal: Promote Sustained, Inclusive and Sustainable Economic Growth, Full and Productive Employment and Decent Work for All:**',\n",
       " '    *   What has been the trend in the growth of the middle class in developing countries over the last 25 years?',\n",
       " '    *   What is the current challenge regarding job growth in relation to the labor force?',\n",
       " '    *   What are some of the key actions to achieve decent work for all?',\n",
       " '',\n",
       " '14. **Goal: Build Resilient Infrastructure, Promote Inclusive and Sustainable Industrialization and Foster Innovation:**',\n",
       " '    *   How has technological progress, such as the internet, benefited the world?',\n",
       " '    *   What is the current digital divide, and where is it most prevalent?',\n",
       " '    *   What are three important ways to facilitate sustainable development according to this goal?',\n",
       " '',\n",
       " '15. **Goal: Reduce Inequality Within and Among Countries:**',\n",
       " '    *   What is the current state of income inequality described in the text?',\n",
       " '    *   What are three policy areas mentioned that can help reduce inequality?',\n",
       " '',\n",
       " '16. **Goal: Make Cities and Human Settlements Inclusive, Safe, Resilient and Sustainable:**',\n",
       " \"    *   What is the projected percentage of the world's population living in cities by 2050?\",\n",
       " '    *   What are some of the challenges associated with large urban centers?',\n",
       " '    *   List at least three strategies for making cities more sustainable.',\n",
       " '',\n",
       " '17. **Goal: Ensure Sustainable Consumption and Production Patterns:**',\n",
       " '    *   What is the contrast presented regarding consumption levels globally?',\n",
       " '    *   What are some specific actions mentioned to achieve sustainable consumption and production?',\n",
       " '    *   What is the target for reducing per capita food waste globally?',\n",
       " '',\n",
       " '18. **Goal: Take Urgent Action to Combat Climate Change and Its Impacts:**',\n",
       " '    *   What is the estimated annual loss from natural disasters like earthquakes and floods?',\n",
       " '    *   What is the target for limiting the increase in global mean temperature to avoid the worst effects of climate change?',\n",
       " '',\n",
       " '19. **Goal: Conserve and Sustainably Use the Oceans, Seas and Marine Resources for Sustainable Development:**',\n",
       " \"    *   What percentage of the world's fish stocks are currently overexploited?\",\n",
       " '    *   How much carbon dioxide do oceans absorb, and what is the consequence of increased production?',\n",
       " '    *   What is the amount of plastic litter per square kilometer of ocean mentioned?',\n",
       " '',\n",
       " '20. **Goal: Protect, Restore and Promote Sustainable Use of Terrestrial Ecosystems, Sustainably Manage Forests, Combat Desertification, and Halt and Reverse Land Degradation and Halt Biodiversity Loss:**',\n",
       " '    *   What percentage of the human diet is made up of plant life?',\n",
       " \"    *   What percentage of the Earth's surface is covered by forests, and what are their benefits?\",\n",
       " '    *   What are the alarming rates of arable land disappearance and desertification mentioned?',\n",
       " '',\n",
       " '21. **Goal: Promote Peaceful and Inclusive Societies for Sustainable Development, Provide Access to Justice for All and Build Effective, Accountable and Inclusive Institutions at All Levels:**',\n",
       " \"    *   What are the essential components for a country's development and peace, according to the text?\",\n",
       " '    *   What are some of the negative factors hindering development in certain parts of the world?',\n",
       " '    *   What are three ways the SDGs aim to promote peace and justice?',\n",
       " '',\n",
       " '22. **Goal: Strengthen the Means of Implementation and Revitalize the Global Partnership for Sustainable Development:**',\n",
       " '    *   What makes the SDGs a \"big to-do list\"?',\n",
       " '    *   What factors are highlighted as advantages for achieving the SDGs?',\n",
       " '    *   How many countries agreed on the SDGs, and why is this significant?',\n",
       " '',\n",
       " '**Action-Oriented & Practical Application Questions:**',\n",
       " '',\n",
       " '23. The text suggests several ways individuals can contribute to the SDGs. List at least three of these actions.',\n",
       " '24. Where can one go to shop for SDG merchandise and show support for specific goals?',\n",
       " '25. What is the stated importance of money in relation to reducing and eradicating poverty?',\n",
       " '26. How can fundraising be beneficial in supporting the SDGs?',\n",
       " '27. What social media platforms are mentioned for finding and sharing UNDP content?',\n",
       " '28. What is the website provided for taking action or learning more about fundraising?',\n",
       " '',\n",
       " '**Coding/Problem-Solving Scenario Questions (Implied):**',\n",
       " '',\n",
       " '29. Imagine you are tasked with building a data visualization dashboard to track progress on the SDGs. What are some key data points you would need to collect for \"Goal 1: End Extreme Poverty\"?',\n",
       " '30. If you were developing an application to help farmers in developing countries improve their yields (related to \"Goal 2: End Hunger\"), what types of data and functionalities would be crucial?',\n",
       " '31. Consider a scenario where you need to build a system to monitor and report on water quality and availability for \"Goal 6: Ensure Availability and Sustainable Management of Water and Sanitation for All.\" What are some technical challenges you might encounter?',\n",
       " '32. How could a programmer contribute to \"Goal 9: Build Resilient Infrastructure, Promote Inclusive and Sustainable Industrialization and Foster Innovation\" by developing tools to bridge the digital divide?',\n",
       " '33. If you were to create a platform to facilitate global partnerships for sustainable development (\"Goal 17\"), what features would be essential for effective collaboration and resource sharing?']"
      ]
     },
     "execution_count": 58,
     "metadata": {},
     "output_type": "execute_result"
    }
   ],
   "source": [
    "ques_list=ques.split(\"\\n\")\n",
    "ques_list"
   ]
  },
  {
   "cell_type": "code",
   "execution_count": 70,
   "id": "74827b3f",
   "metadata": {},
   "outputs": [],
   "source": [
    "from langchain.chains import RetrievalQA\n",
    "qa_chain = RetrievalQA.from_chain_type(\n",
    "    llm=llm_ans_gen,\n",
    "    chain_type=\"stuff\",\n",
    "    retriever=vectorstore.as_retriever(),\n",
    "    return_source_documents=True\n",
    ")\n"
   ]
  },
  {
   "cell_type": "code",
   "execution_count": 71,
   "id": "8eb66c56",
   "metadata": {},
   "outputs": [
    {
     "name": "stdout",
     "output_type": "stream",
     "text": [
      "\n",
      "[1] Question: Here are some questions designed to prepare coders and programmers for exams and coding tests, based on the provided text:\n",
      "Answer: I understand you're looking for coding and programming exam preparation questions based on the provided text. However, the text you've provided is about the **Sustainable Development Goals (SDGs)** and doesn't contain any technical information, code snippets, or programming concepts that would be relevant for creating such questions.\n",
      "\n",
      "To create coding and programming exam questions, I would need text that includes:\n",
      "\n",
      "*   **Algorithmic descriptions:** Explanations of how certain algorithms work.\n",
      "*   **Data structures:** Information about different data structures and their use cases.\n",
      "*   **Programming language syntax or concepts:** Examples of code, explanations of language features, or problem-solving scenarios that require programming knowledge.\n",
      "*   **Problem-solving scenarios:** Descriptions of technical challenges that can be solved with code.\n",
      "\n",
      "If you have a different text that is more technical in nature, please provide it, and I'll be happy to help you generate relevant coding and programming exam questions.\n",
      "\n",
      "[2] Question: **General Understanding & Goal Identification:**\n",
      "Answer: The provided text discusses the **Sustainable Development Goals (SDGs)**, a plan created by leaders from 193 countries in 2015. The overarching aim of the SDGs is to create a better future by addressing global challenges such as poverty, hunger, climate change, inequality, and lack of access to education, health, and clean water. The plan sets out 17 goals to be achieved by the year 2030.\n",
      "\n",
      "[3] Question: 1.  What year did leaders from 193 countries come together to create the Sustainable Development Goals (SDGs)?\n",
      "Answer: Leaders from 193 countries came together to create the Sustainable Development Goals (SDGs) in the year **2015**.\n"
     ]
    },
    {
     "ename": "KeyboardInterrupt",
     "evalue": "",
     "output_type": "error",
     "traceback": [
      "\u001b[1;31m---------------------------------------------------------------------------\u001b[0m",
      "\u001b[1;31mKeyboardInterrupt\u001b[0m                         Traceback (most recent call last)",
      "Cell \u001b[1;32mIn[71], line 35\u001b[0m\n\u001b[0;32m     32\u001b[0m         f\u001b[38;5;241m.\u001b[39mwrite(\u001b[38;5;124m\"\u001b[39m\u001b[38;5;124m--------------------------------------------------\u001b[39m\u001b[38;5;130;01m\\n\u001b[39;00m\u001b[38;5;130;01m\\n\u001b[39;00m\u001b[38;5;124m\"\u001b[39m)\n\u001b[0;32m     34\u001b[0m \u001b[38;5;66;03m# Delay to avoid hitting rate limits\u001b[39;00m\n\u001b[1;32m---> 35\u001b[0m \u001b[43mtime\u001b[49m\u001b[38;5;241;43m.\u001b[39;49m\u001b[43msleep\u001b[49m\u001b[43m(\u001b[49m\u001b[38;5;241;43m5\u001b[39;49m\u001b[43m)\u001b[49m  \u001b[38;5;66;03m# adjust (e.g. 4–6 sec) as per quota\u001b[39;00m\n",
      "\u001b[1;31mKeyboardInterrupt\u001b[0m: "
     ]
    }
   ],
   "source": [
    "import time\n",
    "\n",
    "# Ensure your list has no empty/whitespace questions\n",
    "ques_list = [q.strip() for q in ques_list if q.strip()]\n",
    "\n",
    "# Process only the first 10 questions\n",
    "for idx, question in enumerate(ques_list[:10], start=1):\n",
    "    print(f\"\\n[{idx}] Question:\", question)\n",
    "\n",
    "    try:\n",
    "        # invoke with query input\n",
    "        response = qa_chain.invoke({\"query\": question})\n",
    "\n",
    "        # Extract only the answer\n",
    "        answer = response[\"result\"]\n",
    "\n",
    "        print(\"Answer:\", answer)\n",
    "\n",
    "        # Save to file\n",
    "        with open(\"data/answers.txt\", \"a\", encoding=\"utf-8\") as f:\n",
    "            f.write(\"Question: \" + question + \"\\n\")\n",
    "            f.write(\"Answer: \" + answer + \"\\n\\n\")\n",
    "            f.write(\"--------------------------------------------------\\n\\n\")\n",
    "\n",
    "    except Exception as e:\n",
    "        print(f\"⚠️ Error processing question: {question}\")\n",
    "        print(\"Error details:\", e)\n",
    "        # Optionally log errors instead of skipping\n",
    "        with open(\"data/answers.txt\", \"a\", encoding=\"utf-8\") as f:\n",
    "            f.write(\"Question: \" + question + \"\\n\")\n",
    "            f.write(\"Error: \" + str(e) + \"\\n\\n\")\n",
    "            f.write(\"--------------------------------------------------\\n\\n\")\n",
    "\n",
    "    # Delay to avoid hitting rate limits\n",
    "    time.sleep(5)  # adjust (e.g. 4–6 sec) as per quota\n"
   ]
  }
 ],
 "metadata": {
  "kernelspec": {
   "display_name": "openaidambo",
   "language": "python",
   "name": "python3"
  },
  "language_info": {
   "codemirror_mode": {
    "name": "ipython",
    "version": 3
   },
   "file_extension": ".py",
   "mimetype": "text/x-python",
   "name": "python",
   "nbconvert_exporter": "python",
   "pygments_lexer": "ipython3",
   "version": "3.10.18"
  }
 },
 "nbformat": 4,
 "nbformat_minor": 5
}
